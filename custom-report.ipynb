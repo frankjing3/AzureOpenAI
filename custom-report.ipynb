{
 "cells": [
  {
   "cell_type": "code",
   "execution_count": 23,
   "metadata": {},
   "outputs": [
    {
     "data": {
      "text/plain": [
       "True"
      ]
     },
     "execution_count": 23,
     "metadata": {},
     "output_type": "execute_result"
    }
   ],
   "source": [
    "import azure.cognitiveservices.speech as speechsdk\n",
    "from azure.core.credentials import AzureKeyCredential\n",
    "from azure.ai.formrecognizer import DocumentAnalysisClient\n",
    "import os\n",
    "from dotenv import load_dotenv\n",
    "load_dotenv()\n"
   ]
  },
  {
   "cell_type": "code",
   "execution_count": 32,
   "metadata": {},
   "outputs": [
    {
     "name": "stdout",
     "output_type": "stream",
     "text": [
      "2024_05_13\n",
      "--------Analyzing document #1--------\n",
      "Document has type 2024_05_13\n",
      "Document has confidence 0.964\n",
      "Document was analyzed by model with ID 2024_05_13\n",
      "-----------------------------------\n",
      "-----------------------------------\n",
      "Name of the paper:\n",
      "...... 'Improving Transformers with Dynamically Composable Multi-Head Attention' and with confidence 0.735\n",
      "author list:\n",
      "...... 'Da Xiao 1 Qingye Meng2 Shengping Li2 Xingyuan Yuan 2' and with confidence 0.513\n",
      "abstract:\n",
      "...... 'Abstract Multi-Head Attention (MHA) is a key compo- nent of Transformer. In MHA, attention heads work independently, causing problems such as low-rank bottleneck of attention score matrices and head redundancy. We propose Dynamically Composable Multi-Head Attention (DCMHA), a parameter and computation efficient attention ar- chitecture that tackles the shortcomings of MHA and increases the expressive power of the model by dynamically composing attention heads. At the core of DCMHA is a Compose function that transforms the attention score and weight matri- ces in an input-dependent way. DCMHA can be used as a drop-in replacement of MHA in any transformer architecture to obtain the corre- sponding DCFormer. DCFormer significantly out- performs Transformer on different architectures and model scales in language modeling, match- ing the performance of models with ~1.7x-2.0x compute. For example, DCPythia-6.9B outper- forms open source Pythia-12B on both pretrain- ing perplexity and downstream task evaluation. The code and models are available at https : //github. com/Caiyun-AI/DCFormer.' and with confidence 0.023\n",
      "\n",
      " number of pages: 19\n",
      "-----------------------------------\n",
      "-----------------------------------\n"
     ]
    }
   ],
   "source": [
    "form_rec_endpoint = os.getenv('FORM_RECOGNIZER_ENDPOINT')\n",
    "form_rec_key = os.getenv('FORM_RECOGNIZER_KEY')\n",
    "\n",
    "form_rec_model_id = os.getenv('CUSTOM_BUILT_MODEL_ID')\n",
    "form_rec_document = \"https://classhandonlabel.blob.core.windows.net/label-data/paper6.pdf\"\n",
    "\n",
    "\n",
    "document_analysis_client = DocumentAnalysisClient(\n",
    "    endpoint=form_rec_endpoint, credential=AzureKeyCredential(form_rec_key)\n",
    ")\n",
    "\n",
    "# Make sure your document's type is included in the list of document types the custom model can analyze\n",
    "# poller = document_analysis_client.begin_analyze_document_from_url(form_rec_model_id, form_rec_document)\n",
    "poller = document_analysis_client.begin_analyze_document_from_url(form_rec_model_id, form_rec_document)\n",
    "result = poller.result()\n",
    "\n",
    "for idx, document in enumerate(result.documents):\n",
    "    print(\"--------Analyzing document #{}--------\".format(idx + 1))\n",
    "    print(\"Document has type {}\".format(document.doc_type))\n",
    "    print(\"Document has confidence {}\".format(document.confidence))\n",
    "    print(\"Document was analyzed by model with ID {}\".format(result.model_id))\n",
    "    print(\"-----------------------------------\")\n",
    "    print(\"-----------------------------------\")\n",
    "    for name, field in document.fields.items():\n",
    "        field_value = field.value if field.value else field.content\n",
    "        print(f\"{name}:\") \n",
    "        print(f\"...... '{field_value}' and with confidence {field.confidence}\")\n",
    "print(f\"\\n number of pages: {len(result.pages)}\")\n",
    "print(\"-----------------------------------\")\n",
    "print(\"-----------------------------------\")\n"
   ]
  }
 ],
 "metadata": {
  "kernelspec": {
   "display_name": "base",
   "language": "python",
   "name": "python3"
  },
  "language_info": {
   "codemirror_mode": {
    "name": "ipython",
    "version": 3
   },
   "file_extension": ".py",
   "mimetype": "text/x-python",
   "name": "python",
   "nbconvert_exporter": "python",
   "pygments_lexer": "ipython3",
   "version": "3.10.14"
  }
 },
 "nbformat": 4,
 "nbformat_minor": 2
}
