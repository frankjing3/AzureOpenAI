{
 "cells": [
  {
   "cell_type": "code",
   "execution_count": 33,
   "metadata": {},
   "outputs": [
    {
     "data": {
      "text/plain": [
       "True"
      ]
     },
     "execution_count": 33,
     "metadata": {},
     "output_type": "execute_result"
    }
   ],
   "source": [
    "import azure.cognitiveservices.speech as speechsdk\n",
    "from azure.core.credentials import AzureKeyCredential\n",
    "from azure.ai.textanalytics import TextAnalyticsClient\n",
    "import os\n",
    "from dotenv import load_dotenv\n",
    "load_dotenv()"
   ]
  },
  {
   "cell_type": "code",
   "execution_count": 39,
   "metadata": {},
   "outputs": [
    {
     "name": "stdout",
     "output_type": "stream",
     "text": [
      "Recognizing speech from file...\n",
      "I'm going to talk today about energy and climate, and that might seem a bit surprising because my full time work at the Foundation is mostly about vaccines and seeds, about the things that we need to invent and deliver to help the poorest 2 billion live better lives.\n"
     ]
    }
   ],
   "source": [
    "# Creates config \n",
    "speech_key, service_region = os.getenv('SPEECH_SERVICE_KEY'), \"EastUS\"\n",
    "speech_config = speechsdk.SpeechConfig(subscription=speech_key, region=service_region)\n",
    "audio_file = \"./TedTalk_Bill_Gates.wav\"\n",
    "\n",
    "# Creates an audio configuration that points to an audio file\n",
    "audio_config = speechsdk.audio.AudioConfig(filename=audio_file)\n",
    "\n",
    "# Creates a recognizer with the given settings\n",
    "speech_recognizer = speechsdk.SpeechRecognizer(speech_config=speech_config, audio_config=audio_config)\n",
    "\n",
    "print(\"Recognizing speech from file...\")\n",
    "speech_result = speech_recognizer.recognize_once()\n",
    "\n",
    "# Prints the recognized text\n",
    "print(speech_result.text)\n"
   ]
  },
  {
   "cell_type": "code",
   "execution_count": 40,
   "metadata": {},
   "outputs": [
    {
     "name": "stdout",
     "output_type": "stream",
     "text": [
      "Summaries abstracted:\n",
      "The speaker is planning to discuss energy and climate, despite their primary focus being on vaccines and seeds at their foundation. The goal of their discussion is to address the need to develop and deliver technologies that can improve the lives of the poorest 2 billion people. The speaker's work at the Foundation is primarily focused on developing and delivering vaccines and seeds. The goal is to provide the necessary technologies to help the poorest 2 billion individuals live better lives.\n",
      "\n"
     ]
    }
   ],
   "source": [
    "# summarize the text\n",
    "lang_endpoint = os.getenv('AZURE_LANGUAGE_ENDPOINT')\n",
    "lang_key =  os.getenv('AZURE_LANGUAGE_KEY') \n",
    "text_analytics_client = TextAnalyticsClient(\n",
    "    endpoint=lang_endpoint,\n",
    "    credential=AzureKeyCredential(lang_key),\n",
    ")\n",
    "\n",
    "poller = text_analytics_client.begin_abstract_summary([speech_result.text])\n",
    "abstract_summary_results = poller.result()\n",
    "for result in abstract_summary_results:\n",
    "    if result.kind == \"AbstractiveSummarization\":\n",
    "        print(\"Summaries abstracted:\")\n",
    "        [print(f\"{summary.text}\\n\") for summary in result.summaries]\n",
    "    elif result.is_error is True:\n",
    "        print(\"...Is an error with code '{}' and message '{}'\".format(\n",
    "            result.error.code, result.error.message\n",
    "        ))"
   ]
  }
 ],
 "metadata": {
  "kernelspec": {
   "display_name": "base",
   "language": "python",
   "name": "python3"
  },
  "language_info": {
   "codemirror_mode": {
    "name": "ipython",
    "version": 3
   },
   "file_extension": ".py",
   "mimetype": "text/x-python",
   "name": "python",
   "nbconvert_exporter": "python",
   "pygments_lexer": "ipython3",
   "version": "3.10.14"
  }
 },
 "nbformat": 4,
 "nbformat_minor": 2
}
